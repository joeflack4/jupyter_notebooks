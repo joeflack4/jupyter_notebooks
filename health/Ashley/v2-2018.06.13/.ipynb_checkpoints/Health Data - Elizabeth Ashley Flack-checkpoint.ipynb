{
 "cells": [
  {
   "cell_type": "markdown",
   "metadata": {},
   "source": [
    "# Health Data - Elizabeth Ashley Flack\n",
    "Original data is available on [Google Sheets](https://docs.google.com/spreadsheets/d/1vaXOXPluOg_lg0uqKC-qLBt6odL0GPFPcYzOP2vbaiM/edit#gid=1309334105)."
   ]
  },
  {
   "cell_type": "code",
   "execution_count": 1,
   "metadata": {},
   "outputs": [],
   "source": [
    "# Juptyer Notebook Settings\n",
    "options(repr.plot.width=5, repr.plot.height=5)  # plot size, inches"
   ]
  },
  {
   "cell_type": "markdown",
   "metadata": {},
   "source": [
    "## I. Load Semi-Raw Data\n",
    "This data has already been somewhat wrangled in that secondary variables (namespaced as `Indicator.SECONDARY_VARIABLE_NAME`) have been created."
   ]
  },
  {
   "cell_type": "code",
   "execution_count": 12,
   "metadata": {
    "scrolled": true
   },
   "outputs": [
    {
     "data": {
      "text/html": [
       "<table>\n",
       "<thead><tr><th></th><th scope=col>Date</th><th scope=col>Weekday</th><th scope=col>Notes.Unstructured</th><th scope=col>Med.Class1.1</th><th scope=col>Med.Class1.2</th><th scope=col>Med.Class3.1</th><th scope=col>Med.Class4.1</th><th scope=col>Med.Class5.1</th><th scope=col>Med.Class6.1</th><th scope=col>Symptom.1</th><th scope=col>⋯</th><th scope=col>Indicator.Health</th><th scope=col>Indicator.Experience..</th><th scope=col>Indicator.Experience...1</th><th scope=col>Indicator.Experience</th><th scope=col>Indicator.SelfEfficacy</th><th scope=col>Indicator.Productivity</th><th scope=col>Indicator.Wellbeing</th><th scope=col>Indicator.Utility..</th><th scope=col>Indicator.Utility...1</th><th scope=col>Indicator.Utility</th></tr></thead>\n",
       "<tbody>\n",
       "\t<tr><th scope=row>95</th><td>1/3/18                   </td><td>4                        </td><td>Food diary (FD), G (Gym).</td><td>0                        </td><td>40                       </td><td>0                        </td><td>0                        </td><td>75                       </td><td> 0                       </td><td> 0                       </td><td>⋯                        </td><td>0                        </td><td>0                        </td><td>0                        </td><td>0                        </td><td>0.23                     </td><td>0                        </td><td>0.1                      </td><td>0                        </td><td>0                        </td><td>0.08                     </td></tr>\n",
       "\t<tr><th scope=row>96</th><td>1/4/18                   </td><td>5                        </td><td>                         </td><td>0                        </td><td>40                       </td><td>0                        </td><td>0                        </td><td>75                       </td><td>NA                       </td><td>NA                       </td><td>⋯                        </td><td>0                        </td><td>0                        </td><td>0                        </td><td>0                        </td><td>0.00                     </td><td>0                        </td><td>0.0                      </td><td>0                        </td><td>0                        </td><td>0.00                     </td></tr>\n",
       "\t<tr><th scope=row>97</th><td>1/5/18                   </td><td>6                        </td><td>                         </td><td>0                        </td><td>40                       </td><td>0                        </td><td>0                        </td><td>75                       </td><td>NA                       </td><td>NA                       </td><td>⋯                        </td><td>0                        </td><td>0                        </td><td>0                        </td><td>0                        </td><td>0.00                     </td><td>0                        </td><td>0.0                      </td><td>0                        </td><td>0                        </td><td>0.00                     </td></tr>\n",
       "\t<tr><th scope=row>98</th><td>1/6/18                   </td><td>7                        </td><td>                         </td><td>0                        </td><td>40                       </td><td>0                        </td><td>0                        </td><td>75                       </td><td>NA                       </td><td>NA                       </td><td>⋯                        </td><td>0                        </td><td>0                        </td><td>0                        </td><td>0                        </td><td>0.00                     </td><td>0                        </td><td>0.0                      </td><td>0                        </td><td>0                        </td><td>0.00                     </td></tr>\n",
       "\t<tr><th scope=row>99</th><td>1/7/18                   </td><td>1                        </td><td>                         </td><td>0                        </td><td>40                       </td><td>0                        </td><td>0                        </td><td>75                       </td><td>NA                       </td><td>NA                       </td><td>⋯                        </td><td>0                        </td><td>0                        </td><td>0                        </td><td>0                        </td><td>0.00                     </td><td>0                        </td><td>0.0                      </td><td>0                        </td><td>0                        </td><td>0.00                     </td></tr>\n",
       "\t<tr><th scope=row>100</th><td>1/8/18                   </td><td>2                        </td><td>                         </td><td>0                        </td><td>40                       </td><td>0                        </td><td>0                        </td><td>75                       </td><td>NA                       </td><td>NA                       </td><td>⋯                        </td><td>0                        </td><td>0                        </td><td>0                        </td><td>0                        </td><td>0.00                     </td><td>0                        </td><td>0.0                      </td><td>0                        </td><td>0                        </td><td>0.00                     </td></tr>\n",
       "</tbody>\n",
       "</table>\n"
      ],
      "text/latex": [
       "\\begin{tabular}{r|llllllllllllllllllllllllllllllllllllllllllllllllllll}\n",
       "  & Date & Weekday & Notes.Unstructured & Med.Class1.1 & Med.Class1.2 & Med.Class3.1 & Med.Class4.1 & Med.Class5.1 & Med.Class6.1 & Symptom.1 & ⋯ & Indicator.Health & Indicator.Experience.. & Indicator.Experience...1 & Indicator.Experience & Indicator.SelfEfficacy & Indicator.Productivity & Indicator.Wellbeing & Indicator.Utility.. & Indicator.Utility...1 & Indicator.Utility\\\\\n",
       "\\hline\n",
       "\t95 & 1/3/18                    & 4                         & Food diary (FD), G (Gym). & 0                         & 40                        & 0                         & 0                         & 75                        &  0                        &  0                        & ⋯                         & 0                         & 0                         & 0                         & 0                         & 0.23                      & 0                         & 0.1                       & 0                         & 0                         & 0.08                     \\\\\n",
       "\t96 & 1/4/18                    & 5                         &                           & 0                         & 40                        & 0                         & 0                         & 75                        & NA                        & NA                        & ⋯                         & 0                         & 0                         & 0                         & 0                         & 0.00                      & 0                         & 0.0                       & 0                         & 0                         & 0.00                     \\\\\n",
       "\t97 & 1/5/18                    & 6                         &                           & 0                         & 40                        & 0                         & 0                         & 75                        & NA                        & NA                        & ⋯                         & 0                         & 0                         & 0                         & 0                         & 0.00                      & 0                         & 0.0                       & 0                         & 0                         & 0.00                     \\\\\n",
       "\t98 & 1/6/18                    & 7                         &                           & 0                         & 40                        & 0                         & 0                         & 75                        & NA                        & NA                        & ⋯                         & 0                         & 0                         & 0                         & 0                         & 0.00                      & 0                         & 0.0                       & 0                         & 0                         & 0.00                     \\\\\n",
       "\t99 & 1/7/18                    & 1                         &                           & 0                         & 40                        & 0                         & 0                         & 75                        & NA                        & NA                        & ⋯                         & 0                         & 0                         & 0                         & 0                         & 0.00                      & 0                         & 0.0                       & 0                         & 0                         & 0.00                     \\\\\n",
       "\t100 & 1/8/18                    & 2                         &                           & 0                         & 40                        & 0                         & 0                         & 75                        & NA                        & NA                        & ⋯                         & 0                         & 0                         & 0                         & 0                         & 0.00                      & 0                         & 0.0                       & 0                         & 0                         & 0.00                     \\\\\n",
       "\\end{tabular}\n"
      ],
      "text/markdown": [
       "\n",
       "| <!--/--> | Date | Weekday | Notes.Unstructured | Med.Class1.1 | Med.Class1.2 | Med.Class3.1 | Med.Class4.1 | Med.Class5.1 | Med.Class6.1 | Symptom.1 | ⋯ | Indicator.Health | Indicator.Experience.. | Indicator.Experience...1 | Indicator.Experience | Indicator.SelfEfficacy | Indicator.Productivity | Indicator.Wellbeing | Indicator.Utility.. | Indicator.Utility...1 | Indicator.Utility | \n",
       "|---|---|---|---|---|---|\n",
       "| 95 | 1/3/18                    | 4                         | Food diary (FD), G (Gym). | 0                         | 40                        | 0                         | 0                         | 75                        |  0                        |  0                        | ⋯                         | 0                         | 0                         | 0                         | 0                         | 0.23                      | 0                         | 0.1                       | 0                         | 0                         | 0.08                      | \n",
       "| 96 | 1/4/18                    | 5                         |                           | 0                         | 40                        | 0                         | 0                         | 75                        | NA                        | NA                        | ⋯                         | 0                         | 0                         | 0                         | 0                         | 0.00                      | 0                         | 0.0                       | 0                         | 0                         | 0.00                      | \n",
       "| 97 | 1/5/18                    | 6                         |                           | 0                         | 40                        | 0                         | 0                         | 75                        | NA                        | NA                        | ⋯                         | 0                         | 0                         | 0                         | 0                         | 0.00                      | 0                         | 0.0                       | 0                         | 0                         | 0.00                      | \n",
       "| 98 | 1/6/18                    | 7                         |                           | 0                         | 40                        | 0                         | 0                         | 75                        | NA                        | NA                        | ⋯                         | 0                         | 0                         | 0                         | 0                         | 0.00                      | 0                         | 0.0                       | 0                         | 0                         | 0.00                      | \n",
       "| 99 | 1/7/18                    | 1                         |                           | 0                         | 40                        | 0                         | 0                         | 75                        | NA                        | NA                        | ⋯                         | 0                         | 0                         | 0                         | 0                         | 0.00                      | 0                         | 0.0                       | 0                         | 0                         | 0.00                      | \n",
       "| 100 | 1/8/18                    | 2                         |                           | 0                         | 40                        | 0                         | 0                         | 75                        | NA                        | NA                        | ⋯                         | 0                         | 0                         | 0                         | 0                         | 0.00                      | 0                         | 0.0                       | 0                         | 0                         | 0.00                      | \n",
       "\n",
       "\n"
      ],
      "text/plain": [
       "    Date   Weekday Notes.Unstructured        Med.Class1.1 Med.Class1.2\n",
       "95  1/3/18 4       Food diary (FD), G (Gym). 0            40          \n",
       "96  1/4/18 5                                 0            40          \n",
       "97  1/5/18 6                                 0            40          \n",
       "98  1/6/18 7                                 0            40          \n",
       "99  1/7/18 1                                 0            40          \n",
       "100 1/8/18 2                                 0            40          \n",
       "    Med.Class3.1 Med.Class4.1 Med.Class5.1 Med.Class6.1 Symptom.1 ⋯\n",
       "95  0            0            75            0            0        ⋯\n",
       "96  0            0            75           NA           NA        ⋯\n",
       "97  0            0            75           NA           NA        ⋯\n",
       "98  0            0            75           NA           NA        ⋯\n",
       "99  0            0            75           NA           NA        ⋯\n",
       "100 0            0            75           NA           NA        ⋯\n",
       "    Indicator.Health Indicator.Experience.. Indicator.Experience...1\n",
       "95  0                0                      0                       \n",
       "96  0                0                      0                       \n",
       "97  0                0                      0                       \n",
       "98  0                0                      0                       \n",
       "99  0                0                      0                       \n",
       "100 0                0                      0                       \n",
       "    Indicator.Experience Indicator.SelfEfficacy Indicator.Productivity\n",
       "95  0                    0.23                   0                     \n",
       "96  0                    0.00                   0                     \n",
       "97  0                    0.00                   0                     \n",
       "98  0                    0.00                   0                     \n",
       "99  0                    0.00                   0                     \n",
       "100 0                    0.00                   0                     \n",
       "    Indicator.Wellbeing Indicator.Utility.. Indicator.Utility...1\n",
       "95  0.1                 0                   0                    \n",
       "96  0.0                 0                   0                    \n",
       "97  0.0                 0                   0                    \n",
       "98  0.0                 0                   0                    \n",
       "99  0.0                 0                   0                    \n",
       "100 0.0                 0                   0                    \n",
       "    Indicator.Utility\n",
       "95  0.08             \n",
       "96  0.00             \n",
       "97  0.00             \n",
       "98  0.00             \n",
       "99  0.00             \n",
       "100 0.00             "
      ]
     },
     "metadata": {},
     "output_type": "display_data"
    }
   ],
   "source": [
    "dat = read.csv(\"data/Health Data - Elizabeth Ashley Flack.csv\", header = TRUE)\n",
    "tail(dat)  # See last 6 obs\n",
    "# head(dat)  # See first 6 obs"
   ]
  },
  {
   "cell_type": "markdown",
   "metadata": {},
   "source": [
    "## II. Explore Semi-Raw Data"
   ]
  },
  {
   "cell_type": "code",
   "execution_count": 3,
   "metadata": {},
   "outputs": [
    {
     "data": {
      "text/plain": [
       "      Date       Weekday    \n",
       " 1/1/18 : 1   Min.   :1.00  \n",
       " 1/2/18 : 1   1st Qu.:2.00  \n",
       " 1/3/18 : 1   Median :4.00  \n",
       " 1/4/18 : 1   Mean   :3.95  \n",
       " 1/5/18 : 1   3rd Qu.:6.00  \n",
       " 1/6/18 : 1   Max.   :7.00  \n",
       " (Other):94                 \n",
       "                                      Notes.Unstructured  Med.Class1.1  \n",
       "                                               :20       Min.   :  0.0  \n",
       " Migraine pill.                                : 4       1st Qu.:  0.0  \n",
       " Bedridden.                                    : 3       Median :150.0  \n",
       " Cleaning house.                               : 3       Mean   :100.5  \n",
       " Food diary.                                   : 3       3rd Qu.:150.0  \n",
       " 1hr convo w/ volunteer coordinator at library.: 1       Max.   :150.0  \n",
       " (Other)                                       :66                      \n",
       "  Med.Class1.2   Med.Class3.1  Med.Class4.1    Med.Class5.1   Med.Class6.1   \n",
       " Min.   :30.0   Min.   :0     Min.   :  0.0   Min.   : 0.0   Min.   :0.0000  \n",
       " 1st Qu.:30.0   1st Qu.:0     1st Qu.: 25.0   1st Qu.:75.0   1st Qu.:0.0000  \n",
       " Median :30.0   Median :0     Median : 75.0   Median :75.0   Median :0.0000  \n",
       " Mean   :33.3   Mean   :0     Mean   : 61.5   Mean   :73.5   Mean   :0.1789  \n",
       " 3rd Qu.:40.0   3rd Qu.:0     3rd Qu.: 75.0   3rd Qu.:75.0   3rd Qu.:0.0000  \n",
       " Max.   :40.0   Max.   :0     Max.   :100.0   Max.   :75.0   Max.   :1.0000  \n",
       "                                                             NA's   :5       \n",
       "   Symptom.1        Symptom.2         Symptom.3         Symptom.4      \n",
       " Min.   :0.0000   Min.   :0.00000   Min.   :0.00000   Min.   :0.00000  \n",
       " 1st Qu.:0.0000   1st Qu.:0.00000   1st Qu.:0.00000   1st Qu.:0.00000  \n",
       " Median :0.0000   Median :0.00000   Median :0.00000   Median :0.00000  \n",
       " Mean   :0.2211   Mean   :0.05263   Mean   :0.01053   Mean   :0.01053  \n",
       " 3rd Qu.:0.0000   3rd Qu.:0.00000   3rd Qu.:0.00000   3rd Qu.:0.00000  \n",
       " Max.   :1.0000   Max.   :2.00000   Max.   :1.00000   Max.   :1.00000  \n",
       " NA's   :5        NA's   :5         NA's   :5         NA's   :5        \n",
       "   Symptom.5         Symptom.6         Symptom.7         Symptom.8      \n",
       " Min.   :0.00000   Min.   :0.00000   Min.   :0.00000   Min.   :0.00000  \n",
       " 1st Qu.:0.00000   1st Qu.:0.00000   1st Qu.:0.00000   1st Qu.:0.00000  \n",
       " Median :0.00000   Median :0.00000   Median :0.00000   Median :0.00000  \n",
       " Mean   :0.03158   Mean   :0.03158   Mean   :0.03158   Mean   :0.02105  \n",
       " 3rd Qu.:0.00000   3rd Qu.:0.00000   3rd Qu.:0.00000   3rd Qu.:0.00000  \n",
       " Max.   :1.00000   Max.   :1.00000   Max.   :1.00000   Max.   :1.00000  \n",
       " NA's   :5         NA's   :5         NA's   :5         NA's   :5        \n",
       "   Symptom.9         Symptom.10       Symptom.11        Symptom.12    \n",
       " Min.   :0.00000   Min.   :0.0000   Min.   :0.00000   Min.   :0.0000  \n",
       " 1st Qu.:0.00000   1st Qu.:0.0000   1st Qu.:0.00000   1st Qu.:0.0000  \n",
       " Median :0.00000   Median :0.0000   Median :0.00000   Median :0.0000  \n",
       " Mean   :0.01053   Mean   :0.0421   Mean   :0.01053   Mean   :0.0421  \n",
       " 3rd Qu.:0.00000   3rd Qu.:0.0000   3rd Qu.:0.00000   3rd Qu.:0.0000  \n",
       " Max.   :1.00000   Max.   :1.0000   Max.   :1.00000   Max.   :1.0000  \n",
       " NA's   :5         NA's   :5        NA's   :5         NA's   :5       \n",
       "   Symptom.13        Symptom.14       Experience.1      Experience.2    \n",
       " Min.   :0.00000   Min.   :0.00000   Min.   :0.00000   Min.   :0.00000  \n",
       " 1st Qu.:0.00000   1st Qu.:0.00000   1st Qu.:0.00000   1st Qu.:0.00000  \n",
       " Median :0.00000   Median :0.00000   Median :0.00000   Median :0.00000  \n",
       " Mean   :0.01053   Mean   :0.03158   Mean   :0.03158   Mean   :0.01053  \n",
       " 3rd Qu.:0.00000   3rd Qu.:0.00000   3rd Qu.:0.00000   3rd Qu.:0.00000  \n",
       " Max.   :1.00000   Max.   :1.00000   Max.   :1.00000   Max.   :1.00000  \n",
       " NA's   :5         NA's   :5         NA's   :5         NA's   :5        \n",
       "  Experience.3   Activity.1        Activity.2        Activity.3    \n",
       " Min.   :0     Min.   :0.00000   Min.   :0.00000   Min.   :0.0000  \n",
       " 1st Qu.:0     1st Qu.:0.00000   1st Qu.:0.00000   1st Qu.:0.0000  \n",
       " Median :0     Median :0.00000   Median :0.00000   Median :0.0000  \n",
       " Mean   :0     Mean   :0.07368   Mean   :0.01053   Mean   :0.0421  \n",
       " 3rd Qu.:0     3rd Qu.:0.00000   3rd Qu.:0.00000   3rd Qu.:0.0000  \n",
       " Max.   :0     Max.   :1.00000   Max.   :1.00000   Max.   :1.0000  \n",
       " NA's   :5     NA's   :5         NA's   :5         NA's   :5       \n",
       "   Activity.4       Activity.5       Activity.6     Indicator.Health.Mood..\n",
       " Min.   :0.0000   Min.   :0.0000   Min.   :0.0000   Min.   :0              \n",
       " 1st Qu.:0.0000   1st Qu.:0.0000   1st Qu.:0.0000   1st Qu.:0              \n",
       " Median :0.0000   Median :0.0000   Median :0.0000   Median :0              \n",
       " Mean   :0.1368   Mean   :0.1053   Mean   :0.2316   Mean   :0              \n",
       " 3rd Qu.:0.0000   3rd Qu.:0.0000   3rd Qu.:0.0000   3rd Qu.:0              \n",
       " Max.   :2.0000   Max.   :1.0000   Max.   :1.0000   Max.   :0              \n",
       " NA's   :5        NA's   :5        NA's   :5                               \n",
       " Indicator.Health.Mood...1 Indicator.Health.Energy..\n",
       " Min.   :0.0000            Min.   :0                \n",
       " 1st Qu.:0.0000            1st Qu.:0                \n",
       " Median :0.0000            Median :0                \n",
       " Mean   :0.0334            Mean   :0                \n",
       " 3rd Qu.:0.0000            3rd Qu.:0                \n",
       " Max.   :1.0000            Max.   :0                \n",
       "                                                    \n",
       " Indicator.Health.Energy...1 Indicator.Health.Mental..\n",
       " Min.   :0.000               Min.   :0.00             \n",
       " 1st Qu.:0.000               1st Qu.:0.00             \n",
       " Median :0.000               Median :0.00             \n",
       " Mean   :0.029               Mean   :0.02             \n",
       " 3rd Qu.:0.000               3rd Qu.:0.00             \n",
       " Max.   :0.500               Max.   :0.50             \n",
       "                                                      \n",
       " Indicator.Health.Mental...1 Indicator.Health.Physical..\n",
       " Min.   :0                   Min.   :0.00               \n",
       " 1st Qu.:0                   1st Qu.:0.00               \n",
       " Median :0                   Median :0.00               \n",
       " Mean   :0                   Mean   :0.12               \n",
       " 3rd Qu.:0                   3rd Qu.:0.00               \n",
       " Max.   :0                   Max.   :1.00               \n",
       "                                                        \n",
       " Indicator.Health.Physical...1 Indicator.Health.. Indicator.Health...1\n",
       " Min.   :0                     Min.   :0.0000     Min.   :0           \n",
       " 1st Qu.:0                     1st Qu.:0.0000     1st Qu.:0           \n",
       " Median :0                     Median :0.0000     Median :0           \n",
       " Mean   :0                     Mean   :0.0421     Mean   :0           \n",
       " 3rd Qu.:0                     3rd Qu.:0.0800     3rd Qu.:0           \n",
       " Max.   :0                     Max.   :0.4200     Max.   :0           \n",
       "                                                                      \n",
       " Indicator.Health  Indicator.Experience.. Indicator.Experience...1\n",
       " Min.   :-0.4200   Min.   :0.0000         Min.   :0.0             \n",
       " 1st Qu.:-0.0800   1st Qu.:0.0000         1st Qu.:0.0             \n",
       " Median : 0.0000   Median :0.0000         Median :0.0             \n",
       " Mean   :-0.0421   Mean   :0.0035         Mean   :0.1             \n",
       " 3rd Qu.: 0.0000   3rd Qu.:0.0000         3rd Qu.:0.0             \n",
       " Max.   : 0.0000   Max.   :0.2000         Max.   :1.0             \n",
       "                                                                  \n",
       " Indicator.Experience Indicator.SelfEfficacy Indicator.Productivity\n",
       " Min.   :-0.2000      Min.   :0.0000         Min.   :0             \n",
       " 1st Qu.: 0.0000      1st Qu.:0.0000         1st Qu.:0             \n",
       " Median : 0.0000      Median :0.0000         Median :0             \n",
       " Mean   : 0.0965      Mean   :0.0869         Mean   :0             \n",
       " 3rd Qu.: 0.0000      3rd Qu.:0.1925         3rd Qu.:0             \n",
       " Max.   : 1.0000      Max.   :0.5500         Max.   :0             \n",
       "                                                                   \n",
       " Indicator.Wellbeing Indicator.Utility.. Indicator.Utility...1\n",
       " Min.   :-0.0800     Min.   :0           Min.   :0            \n",
       " 1st Qu.: 0.0000     1st Qu.:0           1st Qu.:0            \n",
       " Median : 0.0000     Median :0           Median :0            \n",
       " Mean   : 0.0573     Mean   :0           Mean   :0            \n",
       " 3rd Qu.: 0.0800     3rd Qu.:0           3rd Qu.:0            \n",
       " Max.   : 0.5500     Max.   :0           Max.   :0            \n",
       "                                                              \n",
       " Indicator.Utility\n",
       " Min.   :-0.0600  \n",
       " 1st Qu.: 0.0000  \n",
       " Median : 0.0000  \n",
       " Mean   : 0.0436  \n",
       " 3rd Qu.: 0.0600  \n",
       " Max.   : 0.4100  \n",
       "                  "
      ]
     },
     "metadata": {},
     "output_type": "display_data"
    }
   ],
   "source": [
    "summary(dat)"
   ]
  },
  {
   "cell_type": "code",
   "execution_count": 4,
   "metadata": {
    "scrolled": true
   },
   "outputs": [
    {
     "data": {
      "text/html": [
       "<dl class=dl-horizontal>\n",
       "\t<dt>Date</dt>\n",
       "\t\t<dd>'integer'</dd>\n",
       "\t<dt>Weekday</dt>\n",
       "\t\t<dd>'integer'</dd>\n",
       "\t<dt>Notes.Unstructured</dt>\n",
       "\t\t<dd>'integer'</dd>\n",
       "\t<dt>Med.Class1.1</dt>\n",
       "\t\t<dd>'integer'</dd>\n",
       "\t<dt>Med.Class1.2</dt>\n",
       "\t\t<dd>'integer'</dd>\n",
       "\t<dt>Med.Class3.1</dt>\n",
       "\t\t<dd>'integer'</dd>\n",
       "\t<dt>Med.Class4.1</dt>\n",
       "\t\t<dd>'integer'</dd>\n",
       "\t<dt>Med.Class5.1</dt>\n",
       "\t\t<dd>'integer'</dd>\n",
       "\t<dt>Med.Class6.1</dt>\n",
       "\t\t<dd>'integer'</dd>\n",
       "\t<dt>Symptom.1</dt>\n",
       "\t\t<dd>'integer'</dd>\n",
       "\t<dt>Symptom.2</dt>\n",
       "\t\t<dd>'integer'</dd>\n",
       "\t<dt>Symptom.3</dt>\n",
       "\t\t<dd>'integer'</dd>\n",
       "\t<dt>Symptom.4</dt>\n",
       "\t\t<dd>'integer'</dd>\n",
       "\t<dt>Symptom.5</dt>\n",
       "\t\t<dd>'integer'</dd>\n",
       "\t<dt>Symptom.6</dt>\n",
       "\t\t<dd>'integer'</dd>\n",
       "\t<dt>Symptom.7</dt>\n",
       "\t\t<dd>'integer'</dd>\n",
       "\t<dt>Symptom.8</dt>\n",
       "\t\t<dd>'integer'</dd>\n",
       "\t<dt>Symptom.9</dt>\n",
       "\t\t<dd>'integer'</dd>\n",
       "\t<dt>Symptom.10</dt>\n",
       "\t\t<dd>'integer'</dd>\n",
       "\t<dt>Symptom.11</dt>\n",
       "\t\t<dd>'integer'</dd>\n",
       "\t<dt>Symptom.12</dt>\n",
       "\t\t<dd>'integer'</dd>\n",
       "\t<dt>Symptom.13</dt>\n",
       "\t\t<dd>'integer'</dd>\n",
       "\t<dt>Symptom.14</dt>\n",
       "\t\t<dd>'integer'</dd>\n",
       "\t<dt>Experience.1</dt>\n",
       "\t\t<dd>'integer'</dd>\n",
       "\t<dt>Experience.2</dt>\n",
       "\t\t<dd>'integer'</dd>\n",
       "\t<dt>Experience.3</dt>\n",
       "\t\t<dd>'integer'</dd>\n",
       "\t<dt>Activity.1</dt>\n",
       "\t\t<dd>'integer'</dd>\n",
       "\t<dt>Activity.2</dt>\n",
       "\t\t<dd>'integer'</dd>\n",
       "\t<dt>Activity.3</dt>\n",
       "\t\t<dd>'integer'</dd>\n",
       "\t<dt>Activity.4</dt>\n",
       "\t\t<dd>'integer'</dd>\n",
       "\t<dt>Activity.5</dt>\n",
       "\t\t<dd>'integer'</dd>\n",
       "\t<dt>Activity.6</dt>\n",
       "\t\t<dd>'integer'</dd>\n",
       "\t<dt>Indicator.Health.Mood..</dt>\n",
       "\t\t<dd>'integer'</dd>\n",
       "\t<dt>Indicator.Health.Mood...1</dt>\n",
       "\t\t<dd>'double'</dd>\n",
       "\t<dt>Indicator.Health.Energy..</dt>\n",
       "\t\t<dd>'integer'</dd>\n",
       "\t<dt>Indicator.Health.Energy...1</dt>\n",
       "\t\t<dd>'double'</dd>\n",
       "\t<dt>Indicator.Health.Mental..</dt>\n",
       "\t\t<dd>'double'</dd>\n",
       "\t<dt>Indicator.Health.Mental...1</dt>\n",
       "\t\t<dd>'integer'</dd>\n",
       "\t<dt>Indicator.Health.Physical..</dt>\n",
       "\t\t<dd>'double'</dd>\n",
       "\t<dt>Indicator.Health.Physical...1</dt>\n",
       "\t\t<dd>'integer'</dd>\n",
       "\t<dt>Indicator.Health..</dt>\n",
       "\t\t<dd>'double'</dd>\n",
       "\t<dt>Indicator.Health...1</dt>\n",
       "\t\t<dd>'integer'</dd>\n",
       "\t<dt>Indicator.Health</dt>\n",
       "\t\t<dd>'double'</dd>\n",
       "\t<dt>Indicator.Experience..</dt>\n",
       "\t\t<dd>'double'</dd>\n",
       "\t<dt>Indicator.Experience...1</dt>\n",
       "\t\t<dd>'integer'</dd>\n",
       "\t<dt>Indicator.Experience</dt>\n",
       "\t\t<dd>'double'</dd>\n",
       "\t<dt>Indicator.SelfEfficacy</dt>\n",
       "\t\t<dd>'double'</dd>\n",
       "\t<dt>Indicator.Productivity</dt>\n",
       "\t\t<dd>'integer'</dd>\n",
       "\t<dt>Indicator.Wellbeing</dt>\n",
       "\t\t<dd>'double'</dd>\n",
       "\t<dt>Indicator.Utility..</dt>\n",
       "\t\t<dd>'integer'</dd>\n",
       "\t<dt>Indicator.Utility...1</dt>\n",
       "\t\t<dd>'integer'</dd>\n",
       "\t<dt>Indicator.Utility</dt>\n",
       "\t\t<dd>'double'</dd>\n",
       "</dl>\n"
      ],
      "text/latex": [
       "\\begin{description*}\n",
       "\\item[Date] 'integer'\n",
       "\\item[Weekday] 'integer'\n",
       "\\item[Notes.Unstructured] 'integer'\n",
       "\\item[Med.Class1.1] 'integer'\n",
       "\\item[Med.Class1.2] 'integer'\n",
       "\\item[Med.Class3.1] 'integer'\n",
       "\\item[Med.Class4.1] 'integer'\n",
       "\\item[Med.Class5.1] 'integer'\n",
       "\\item[Med.Class6.1] 'integer'\n",
       "\\item[Symptom.1] 'integer'\n",
       "\\item[Symptom.2] 'integer'\n",
       "\\item[Symptom.3] 'integer'\n",
       "\\item[Symptom.4] 'integer'\n",
       "\\item[Symptom.5] 'integer'\n",
       "\\item[Symptom.6] 'integer'\n",
       "\\item[Symptom.7] 'integer'\n",
       "\\item[Symptom.8] 'integer'\n",
       "\\item[Symptom.9] 'integer'\n",
       "\\item[Symptom.10] 'integer'\n",
       "\\item[Symptom.11] 'integer'\n",
       "\\item[Symptom.12] 'integer'\n",
       "\\item[Symptom.13] 'integer'\n",
       "\\item[Symptom.14] 'integer'\n",
       "\\item[Experience.1] 'integer'\n",
       "\\item[Experience.2] 'integer'\n",
       "\\item[Experience.3] 'integer'\n",
       "\\item[Activity.1] 'integer'\n",
       "\\item[Activity.2] 'integer'\n",
       "\\item[Activity.3] 'integer'\n",
       "\\item[Activity.4] 'integer'\n",
       "\\item[Activity.5] 'integer'\n",
       "\\item[Activity.6] 'integer'\n",
       "\\item[Indicator.Health.Mood..] 'integer'\n",
       "\\item[Indicator.Health.Mood...1] 'double'\n",
       "\\item[Indicator.Health.Energy..] 'integer'\n",
       "\\item[Indicator.Health.Energy...1] 'double'\n",
       "\\item[Indicator.Health.Mental..] 'double'\n",
       "\\item[Indicator.Health.Mental...1] 'integer'\n",
       "\\item[Indicator.Health.Physical..] 'double'\n",
       "\\item[Indicator.Health.Physical...1] 'integer'\n",
       "\\item[Indicator.Health..] 'double'\n",
       "\\item[Indicator.Health...1] 'integer'\n",
       "\\item[Indicator.Health] 'double'\n",
       "\\item[Indicator.Experience..] 'double'\n",
       "\\item[Indicator.Experience...1] 'integer'\n",
       "\\item[Indicator.Experience] 'double'\n",
       "\\item[Indicator.SelfEfficacy] 'double'\n",
       "\\item[Indicator.Productivity] 'integer'\n",
       "\\item[Indicator.Wellbeing] 'double'\n",
       "\\item[Indicator.Utility..] 'integer'\n",
       "\\item[Indicator.Utility...1] 'integer'\n",
       "\\item[Indicator.Utility] 'double'\n",
       "\\end{description*}\n"
      ],
      "text/markdown": [
       "Date\n",
       ":   'integer'Weekday\n",
       ":   'integer'Notes.Unstructured\n",
       ":   'integer'Med.Class1.1\n",
       ":   'integer'Med.Class1.2\n",
       ":   'integer'Med.Class3.1\n",
       ":   'integer'Med.Class4.1\n",
       ":   'integer'Med.Class5.1\n",
       ":   'integer'Med.Class6.1\n",
       ":   'integer'Symptom.1\n",
       ":   'integer'Symptom.2\n",
       ":   'integer'Symptom.3\n",
       ":   'integer'Symptom.4\n",
       ":   'integer'Symptom.5\n",
       ":   'integer'Symptom.6\n",
       ":   'integer'Symptom.7\n",
       ":   'integer'Symptom.8\n",
       ":   'integer'Symptom.9\n",
       ":   'integer'Symptom.10\n",
       ":   'integer'Symptom.11\n",
       ":   'integer'Symptom.12\n",
       ":   'integer'Symptom.13\n",
       ":   'integer'Symptom.14\n",
       ":   'integer'Experience.1\n",
       ":   'integer'Experience.2\n",
       ":   'integer'Experience.3\n",
       ":   'integer'Activity.1\n",
       ":   'integer'Activity.2\n",
       ":   'integer'Activity.3\n",
       ":   'integer'Activity.4\n",
       ":   'integer'Activity.5\n",
       ":   'integer'Activity.6\n",
       ":   'integer'Indicator.Health.Mood..\n",
       ":   'integer'Indicator.Health.Mood...1\n",
       ":   'double'Indicator.Health.Energy..\n",
       ":   'integer'Indicator.Health.Energy...1\n",
       ":   'double'Indicator.Health.Mental..\n",
       ":   'double'Indicator.Health.Mental...1\n",
       ":   'integer'Indicator.Health.Physical..\n",
       ":   'double'Indicator.Health.Physical...1\n",
       ":   'integer'Indicator.Health..\n",
       ":   'double'Indicator.Health...1\n",
       ":   'integer'Indicator.Health\n",
       ":   'double'Indicator.Experience..\n",
       ":   'double'Indicator.Experience...1\n",
       ":   'integer'Indicator.Experience\n",
       ":   'double'Indicator.SelfEfficacy\n",
       ":   'double'Indicator.Productivity\n",
       ":   'integer'Indicator.Wellbeing\n",
       ":   'double'Indicator.Utility..\n",
       ":   'integer'Indicator.Utility...1\n",
       ":   'integer'Indicator.Utility\n",
       ":   'double'\n",
       "\n"
      ],
      "text/plain": [
       "                         Date                       Weekday \n",
       "                    \"integer\"                     \"integer\" \n",
       "           Notes.Unstructured                  Med.Class1.1 \n",
       "                    \"integer\"                     \"integer\" \n",
       "                 Med.Class1.2                  Med.Class3.1 \n",
       "                    \"integer\"                     \"integer\" \n",
       "                 Med.Class4.1                  Med.Class5.1 \n",
       "                    \"integer\"                     \"integer\" \n",
       "                 Med.Class6.1                     Symptom.1 \n",
       "                    \"integer\"                     \"integer\" \n",
       "                    Symptom.2                     Symptom.3 \n",
       "                    \"integer\"                     \"integer\" \n",
       "                    Symptom.4                     Symptom.5 \n",
       "                    \"integer\"                     \"integer\" \n",
       "                    Symptom.6                     Symptom.7 \n",
       "                    \"integer\"                     \"integer\" \n",
       "                    Symptom.8                     Symptom.9 \n",
       "                    \"integer\"                     \"integer\" \n",
       "                   Symptom.10                    Symptom.11 \n",
       "                    \"integer\"                     \"integer\" \n",
       "                   Symptom.12                    Symptom.13 \n",
       "                    \"integer\"                     \"integer\" \n",
       "                   Symptom.14                  Experience.1 \n",
       "                    \"integer\"                     \"integer\" \n",
       "                 Experience.2                  Experience.3 \n",
       "                    \"integer\"                     \"integer\" \n",
       "                   Activity.1                    Activity.2 \n",
       "                    \"integer\"                     \"integer\" \n",
       "                   Activity.3                    Activity.4 \n",
       "                    \"integer\"                     \"integer\" \n",
       "                   Activity.5                    Activity.6 \n",
       "                    \"integer\"                     \"integer\" \n",
       "      Indicator.Health.Mood..     Indicator.Health.Mood...1 \n",
       "                    \"integer\"                      \"double\" \n",
       "    Indicator.Health.Energy..   Indicator.Health.Energy...1 \n",
       "                    \"integer\"                      \"double\" \n",
       "    Indicator.Health.Mental..   Indicator.Health.Mental...1 \n",
       "                     \"double\"                     \"integer\" \n",
       "  Indicator.Health.Physical.. Indicator.Health.Physical...1 \n",
       "                     \"double\"                     \"integer\" \n",
       "           Indicator.Health..          Indicator.Health...1 \n",
       "                     \"double\"                     \"integer\" \n",
       "             Indicator.Health        Indicator.Experience.. \n",
       "                     \"double\"                      \"double\" \n",
       "     Indicator.Experience...1          Indicator.Experience \n",
       "                    \"integer\"                      \"double\" \n",
       "       Indicator.SelfEfficacy        Indicator.Productivity \n",
       "                     \"double\"                     \"integer\" \n",
       "          Indicator.Wellbeing           Indicator.Utility.. \n",
       "                     \"double\"                     \"integer\" \n",
       "        Indicator.Utility...1             Indicator.Utility \n",
       "                    \"integer\"                      \"double\" "
      ]
     },
     "metadata": {},
     "output_type": "display_data"
    }
   ],
   "source": [
    "sapply(dat, typeof)  # Check types of all fields, using \"simple apply\" to apply typeof() to all fields in \"dat\"."
   ]
  },
  {
   "cell_type": "markdown",
   "metadata": {},
   "source": [
    "## III. Clean Data"
   ]
  },
  {
   "cell_type": "markdown",
   "metadata": {},
   "source": [
    "### III.1 Convert read.csv() List to Data Frame"
   ]
  },
  {
   "cell_type": "code",
   "execution_count": 17,
   "metadata": {},
   "outputs": [
    {
     "data": {
      "text/html": [
       "Food diary. Period. Helped start car. Financial issues. Went 2 places."
      ],
      "text/latex": [
       "Food diary. Period. Helped start car. Financial issues. Went 2 places."
      ],
      "text/markdown": [
       "Food diary. Period. Helped start car. Financial issues. Went 2 places."
      ],
      "text/plain": [
       "[1] Food diary. Period. Helped start car. Financial issues. Went 2 places.\n",
       "72 Levels:  ... We had sex!"
      ]
     },
     "metadata": {},
     "output_type": "display_data"
    }
   ],
   "source": [
    "df <- data.frame(dat)\n",
    "df$Notes.Unstructured[1]"
   ]
  },
  {
   "cell_type": "markdown",
   "metadata": {},
   "source": [
    "### III.2 Drop unneeded columns"
   ]
  },
  {
   "cell_type": "markdown",
   "metadata": {},
   "source": [
    "df$Notes.Unstructured[3]\n",
    "drops <- c(\"Notes.Unstructured\")  # Create vector of fields to drop\n",
    "df <- df[ , !(names(df) %in% drops)]  # Creates a new data frame from the first one, including any fields that aren't in list of fields to filter out.\n",
    "df$Notes.Unstructured[1]"
   ]
  },
  {
   "cell_type": "markdown",
   "metadata": {},
   "source": [
    "### III.3 Remove any rows with missing values"
   ]
  },
  {
   "cell_type": "code",
   "execution_count": 7,
   "metadata": {},
   "outputs": [
    {
     "data": {
      "text/html": [
       "10/1/17"
      ],
      "text/latex": [
       "10/1/17"
      ],
      "text/markdown": [
       "10/1/17"
      ],
      "text/plain": [
       "[1] 10/1/17\n",
       "100 Levels: 1/1/18 1/2/18 1/3/18 1/4/18 1/5/18 1/6/18 1/7/18 1/8/18 ... 12/9/17"
      ]
     },
     "metadata": {},
     "output_type": "display_data"
    },
    {
     "data": {
      "text/html": [
       "100"
      ],
      "text/latex": [
       "100"
      ],
      "text/markdown": [
       "100"
      ],
      "text/plain": [
       "[1] 100"
      ]
     },
     "metadata": {},
     "output_type": "display_data"
    },
    {
     "name": "stdout",
     "output_type": "stream",
     "text": [
      " Named num [1:51] 0 0 0 0 0 0 0 5 5 5 ...\n",
      " - attr(*, \"names\")= chr [1:51] \"Date\" \"Weekday\" \"Med.Class1.1\" \"Med.Class1.2\" ...\n",
      " Named num [1:51] 100 100 100 100 100 100 100 95 95 95 ...\n",
      " - attr(*, \"names\")= chr [1:51] \"Date\" \"Weekday\" \"Med.Class1.1\" \"Med.Class1.2\" ...\n"
     ]
    },
    {
     "data": {
      "text/html": [
       "95"
      ],
      "text/latex": [
       "95"
      ],
      "text/markdown": [
       "95"
      ],
      "text/plain": [
       "[1] 95"
      ]
     },
     "metadata": {},
     "output_type": "display_data"
    }
   ],
   "source": [
    "df$Date[1]\n",
    "nrow(df)\n",
    "str(colSums(is.na(df)))\n",
    "str(colSums(!is.na(df)))\n",
    "df <- df[complete.cases(df), ]\n",
    "nrow(df)"
   ]
  },
  {
   "cell_type": "markdown",
   "metadata": {},
   "source": [
    "### IV.4 Streamline Data Types"
   ]
  },
  {
   "cell_type": "code",
   "execution_count": 8,
   "metadata": {},
   "outputs": [
    {
     "data": {
      "text/html": [
       "10/1/17"
      ],
      "text/latex": [
       "10/1/17"
      ],
      "text/markdown": [
       "10/1/17"
      ],
      "text/plain": [
       "[1] 10/1/17\n",
       "100 Levels: 1/1/18 1/2/18 1/3/18 1/4/18 1/5/18 1/6/18 1/7/18 1/8/18 ... 12/9/17"
      ]
     },
     "metadata": {},
     "output_type": "display_data"
    },
    {
     "data": {
      "text/html": [
       "'integer'"
      ],
      "text/latex": [
       "'integer'"
      ],
      "text/markdown": [
       "'integer'"
      ],
      "text/plain": [
       "[1] \"integer\""
      ]
     },
     "metadata": {},
     "output_type": "display_data"
    },
    {
     "data": {
      "text/html": [
       "'factor'"
      ],
      "text/latex": [
       "'factor'"
      ],
      "text/markdown": [
       "'factor'"
      ],
      "text/plain": [
       "[1] \"factor\""
      ]
     },
     "metadata": {},
     "output_type": "display_data"
    },
    {
     "name": "stderr",
     "output_type": "stream",
     "text": [
      "Warning message in strptime(x, format, tz = \"GMT\"):\n",
      "“unknown timezone 'zone/tz/2018c.1.0/zoneinfo/America/New_York'”"
     ]
    },
    {
     "data": {
      "text/html": [
       "'Date'"
      ],
      "text/latex": [
       "'Date'"
      ],
      "text/markdown": [
       "'Date'"
      ],
      "text/plain": [
       "[1] \"Date\""
      ]
     },
     "metadata": {},
     "output_type": "display_data"
    },
    {
     "data": {
      "text/html": [
       "'double'"
      ],
      "text/latex": [
       "'double'"
      ],
      "text/markdown": [
       "'double'"
      ],
      "text/plain": [
       "[1] \"double\""
      ]
     },
     "metadata": {},
     "output_type": "display_data"
    },
    {
     "data": {
      "text/html": [
       "<time datetime=\"0017-10-01\">0017-10-01</time>"
      ],
      "text/latex": [
       "0017-10-01"
      ],
      "text/markdown": [
       "0017-10-01"
      ],
      "text/plain": [
       "[1] \"0017-10-01\""
      ]
     },
     "metadata": {},
     "output_type": "display_data"
    }
   ],
   "source": [
    "df$Date[1]\n",
    "typeof(df$Date)\n",
    "class(df$Date)\n",
    "df$Date <- as.Date(df$Date, format='%m/%d/%Y')\n",
    "class(df$Date)\n",
    "typeof(df$Date)\n",
    "df$Date[1]"
   ]
  },
  {
   "cell_type": "markdown",
   "metadata": {},
   "source": [
    "## IV. Explore Clean Data"
   ]
  },
  {
   "cell_type": "code",
   "execution_count": 9,
   "metadata": {},
   "outputs": [
    {
     "data": {
      "text/plain": [
       "      Date               Weekday       Med.Class1.1    Med.Class1.2  \n",
       " Min.   :0017-10-01   Min.   :1.000   Min.   :  0.0   Min.   :30.00  \n",
       " 1st Qu.:0017-10-24   1st Qu.:2.000   1st Qu.:  0.0   1st Qu.:30.00  \n",
       " Median :0017-11-17   Median :4.000   Median :150.0   Median :30.00  \n",
       " Mean   :0017-11-17   Mean   :3.937   Mean   :105.8   Mean   :32.95  \n",
       " 3rd Qu.:0017-12-10   3rd Qu.:6.000   3rd Qu.:150.0   3rd Qu.:40.00  \n",
       " Max.   :0018-01-03   Max.   :7.000   Max.   :150.0   Max.   :40.00  \n",
       "  Med.Class3.1  Med.Class4.1     Med.Class5.1    Med.Class6.1   \n",
       " Min.   :0     Min.   :  0.00   Min.   : 0.00   Min.   :0.0000  \n",
       " 1st Qu.:0     1st Qu.: 50.00   1st Qu.:75.00   1st Qu.:0.0000  \n",
       " Median :0     Median : 75.00   Median :75.00   Median :0.0000  \n",
       " Mean   :0     Mean   : 64.74   Mean   :73.42   Mean   :0.1789  \n",
       " 3rd Qu.:0     3rd Qu.: 75.00   3rd Qu.:75.00   3rd Qu.:0.0000  \n",
       " Max.   :0     Max.   :100.00   Max.   :75.00   Max.   :1.0000  \n",
       "   Symptom.1        Symptom.2         Symptom.3         Symptom.4      \n",
       " Min.   :0.0000   Min.   :0.00000   Min.   :0.00000   Min.   :0.00000  \n",
       " 1st Qu.:0.0000   1st Qu.:0.00000   1st Qu.:0.00000   1st Qu.:0.00000  \n",
       " Median :0.0000   Median :0.00000   Median :0.00000   Median :0.00000  \n",
       " Mean   :0.2211   Mean   :0.05263   Mean   :0.01053   Mean   :0.01053  \n",
       " 3rd Qu.:0.0000   3rd Qu.:0.00000   3rd Qu.:0.00000   3rd Qu.:0.00000  \n",
       " Max.   :1.0000   Max.   :2.00000   Max.   :1.00000   Max.   :1.00000  \n",
       "   Symptom.5         Symptom.6         Symptom.7         Symptom.8      \n",
       " Min.   :0.00000   Min.   :0.00000   Min.   :0.00000   Min.   :0.00000  \n",
       " 1st Qu.:0.00000   1st Qu.:0.00000   1st Qu.:0.00000   1st Qu.:0.00000  \n",
       " Median :0.00000   Median :0.00000   Median :0.00000   Median :0.00000  \n",
       " Mean   :0.03158   Mean   :0.03158   Mean   :0.03158   Mean   :0.02105  \n",
       " 3rd Qu.:0.00000   3rd Qu.:0.00000   3rd Qu.:0.00000   3rd Qu.:0.00000  \n",
       " Max.   :1.00000   Max.   :1.00000   Max.   :1.00000   Max.   :1.00000  \n",
       "   Symptom.9         Symptom.10        Symptom.11        Symptom.12     \n",
       " Min.   :0.00000   Min.   :0.00000   Min.   :0.00000   Min.   :0.00000  \n",
       " 1st Qu.:0.00000   1st Qu.:0.00000   1st Qu.:0.00000   1st Qu.:0.00000  \n",
       " Median :0.00000   Median :0.00000   Median :0.00000   Median :0.00000  \n",
       " Mean   :0.01053   Mean   :0.04211   Mean   :0.01053   Mean   :0.04211  \n",
       " 3rd Qu.:0.00000   3rd Qu.:0.00000   3rd Qu.:0.00000   3rd Qu.:0.00000  \n",
       " Max.   :1.00000   Max.   :1.00000   Max.   :1.00000   Max.   :1.00000  \n",
       "   Symptom.13        Symptom.14       Experience.1      Experience.2    \n",
       " Min.   :0.00000   Min.   :0.00000   Min.   :0.00000   Min.   :0.00000  \n",
       " 1st Qu.:0.00000   1st Qu.:0.00000   1st Qu.:0.00000   1st Qu.:0.00000  \n",
       " Median :0.00000   Median :0.00000   Median :0.00000   Median :0.00000  \n",
       " Mean   :0.01053   Mean   :0.03158   Mean   :0.03158   Mean   :0.01053  \n",
       " 3rd Qu.:0.00000   3rd Qu.:0.00000   3rd Qu.:0.00000   3rd Qu.:0.00000  \n",
       " Max.   :1.00000   Max.   :1.00000   Max.   :1.00000   Max.   :1.00000  \n",
       "  Experience.3   Activity.1        Activity.2        Activity.3     \n",
       " Min.   :0     Min.   :0.00000   Min.   :0.00000   Min.   :0.00000  \n",
       " 1st Qu.:0     1st Qu.:0.00000   1st Qu.:0.00000   1st Qu.:0.00000  \n",
       " Median :0     Median :0.00000   Median :0.00000   Median :0.00000  \n",
       " Mean   :0     Mean   :0.07368   Mean   :0.01053   Mean   :0.04211  \n",
       " 3rd Qu.:0     3rd Qu.:0.00000   3rd Qu.:0.00000   3rd Qu.:0.00000  \n",
       " Max.   :0     Max.   :1.00000   Max.   :1.00000   Max.   :1.00000  \n",
       "   Activity.4       Activity.5       Activity.6     Indicator.Health.Mood..\n",
       " Min.   :0.0000   Min.   :0.0000   Min.   :0.0000   Min.   :0              \n",
       " 1st Qu.:0.0000   1st Qu.:0.0000   1st Qu.:0.0000   1st Qu.:0              \n",
       " Median :0.0000   Median :0.0000   Median :0.0000   Median :0              \n",
       " Mean   :0.1368   Mean   :0.1053   Mean   :0.2316   Mean   :0              \n",
       " 3rd Qu.:0.0000   3rd Qu.:0.0000   3rd Qu.:0.0000   3rd Qu.:0              \n",
       " Max.   :2.0000   Max.   :1.0000   Max.   :1.0000   Max.   :0              \n",
       " Indicator.Health.Mood...1 Indicator.Health.Energy..\n",
       " Min.   :0.00000           Min.   :0                \n",
       " 1st Qu.:0.00000           1st Qu.:0                \n",
       " Median :0.00000           Median :0                \n",
       " Mean   :0.03516           Mean   :0                \n",
       " 3rd Qu.:0.00000           3rd Qu.:0                \n",
       " Max.   :1.00000           Max.   :0                \n",
       " Indicator.Health.Energy...1 Indicator.Health.Mental..\n",
       " Min.   :0.00000             Min.   :0.00000          \n",
       " 1st Qu.:0.00000             1st Qu.:0.00000          \n",
       " Median :0.00000             Median :0.00000          \n",
       " Mean   :0.03053             Mean   :0.02105          \n",
       " 3rd Qu.:0.00000             3rd Qu.:0.00000          \n",
       " Max.   :0.50000             Max.   :0.50000          \n",
       " Indicator.Health.Mental...1 Indicator.Health.Physical..\n",
       " Min.   :0                   Min.   :0.0000             \n",
       " 1st Qu.:0                   1st Qu.:0.0000             \n",
       " Median :0                   Median :0.0000             \n",
       " Mean   :0                   Mean   :0.1263             \n",
       " 3rd Qu.:0                   3rd Qu.:0.0000             \n",
       " Max.   :0                   Max.   :1.0000             \n",
       " Indicator.Health.Physical...1 Indicator.Health.. Indicator.Health...1\n",
       " Min.   :0                     Min.   :0.00000    Min.   :0           \n",
       " 1st Qu.:0                     1st Qu.:0.00000    1st Qu.:0           \n",
       " Median :0                     Median :0.00000    Median :0           \n",
       " Mean   :0                     Mean   :0.04432    Mean   :0           \n",
       " 3rd Qu.:0                     3rd Qu.:0.08000    3rd Qu.:0           \n",
       " Max.   :0                     Max.   :0.42000    Max.   :0           \n",
       " Indicator.Health   Indicator.Experience.. Indicator.Experience...1\n",
       " Min.   :-0.42000   Min.   :0.000000       Min.   :0.0000          \n",
       " 1st Qu.:-0.08000   1st Qu.:0.000000       1st Qu.:0.0000          \n",
       " Median : 0.00000   Median :0.000000       Median :0.0000          \n",
       " Mean   :-0.04432   Mean   :0.003684       Mean   :0.1053          \n",
       " 3rd Qu.: 0.00000   3rd Qu.:0.000000       3rd Qu.:0.0000          \n",
       " Max.   : 0.00000   Max.   :0.200000       Max.   :1.0000          \n",
       " Indicator.Experience Indicator.SelfEfficacy Indicator.Productivity\n",
       " Min.   :-0.2000      Min.   :0.00000        Min.   :0             \n",
       " 1st Qu.: 0.0000      1st Qu.:0.00000        1st Qu.:0             \n",
       " Median : 0.0000      Median :0.00000        Median :0             \n",
       " Mean   : 0.1016      Mean   :0.09147        Mean   :0             \n",
       " 3rd Qu.: 0.0000      3rd Qu.:0.23000        3rd Qu.:0             \n",
       " Max.   : 1.0000      Max.   :0.55000        Max.   :0             \n",
       " Indicator.Wellbeing Indicator.Utility.. Indicator.Utility...1\n",
       " Min.   :-0.08000    Min.   :0           Min.   :0            \n",
       " 1st Qu.: 0.00000    1st Qu.:0           1st Qu.:0            \n",
       " Median : 0.00000    Median :0           Median :0            \n",
       " Mean   : 0.06032    Mean   :0           Mean   :0            \n",
       " 3rd Qu.: 0.08000    3rd Qu.:0           3rd Qu.:0            \n",
       " Max.   : 0.55000    Max.   :0           Max.   :0            \n",
       " Indicator.Utility \n",
       " Min.   :-0.06000  \n",
       " 1st Qu.: 0.00000  \n",
       " Median : 0.00000  \n",
       " Mean   : 0.04589  \n",
       " 3rd Qu.: 0.06000  \n",
       " Max.   : 0.41000  "
      ]
     },
     "metadata": {},
     "output_type": "display_data"
    }
   ],
   "source": [
    "summary(df)"
   ]
  },
  {
   "cell_type": "markdown",
   "metadata": {},
   "source": [
    "## V. Analyses"
   ]
  },
  {
   "cell_type": "markdown",
   "metadata": {},
   "source": [
    "### V.1 Simple Plots\n",
    "#### Data Visualization Reference Info\n",
    "##### Ggplot2\n",
    "Tutorial: http://www.cookbook-r.com/Graphs/Bar_and_line_graphs_(ggplot2)/\n",
    "\n",
    "Options for `geom_line()`\n",
    "- Line type, e.g. `linetype='dashed'`\n",
    "- Line color, e.g. `color='red'`"
   ]
  },
  {
   "cell_type": "markdown",
   "metadata": {},
   "source": [
    "#### Presence of any headache on weekday for timespan of entire dataset"
   ]
  },
  {
   "cell_type": "code",
   "execution_count": 10,
   "metadata": {},
   "outputs": [
    {
     "ename": "ERROR",
     "evalue": "Error in eval(predvars, data, env): object 'Symptom.Headache' not found\n",
     "output_type": "error",
     "traceback": [
      "Error in eval(predvars, data, env): object 'Symptom.Headache' not found\nTraceback:\n",
      "1. lm(Symptom.Headache ~ Weekday, data = df)",
      "2. eval(mf, parent.frame())",
      "3. eval(mf, parent.frame())",
      "4. stats::model.frame(formula = Symptom.Headache ~ Weekday, data = df, \n .     drop.unused.levels = TRUE)",
      "5. model.frame.default(formula = Symptom.Headache ~ Weekday, data = df, \n .     drop.unused.levels = TRUE)",
      "6. eval(predvars, data, env)",
      "7. eval(predvars, data, env)"
     ]
    }
   ],
   "source": [
    "lm1 <- lm(Symptom.Headache ~ Weekday, data=df)\n",
    "plot(df$Weekday, df$Symptom.Headache)"
   ]
  },
  {
   "cell_type": "markdown",
   "metadata": {},
   "source": [
    "#### Health over time"
   ]
  },
  {
   "cell_type": "code",
   "execution_count": null,
   "metadata": {},
   "outputs": [],
   "source": [
    "library(ggplot2)\n",
    "var <- df$Indicator.Health\n",
    "time <- df$Date\n",
    "\n",
    "# a_lm <- lm(-10*Indicator.Health ~ Date, data=df)\n",
    "# plot(df$Date, df$Indicator.Health)\n",
    "# lines(df$Date, a_lm$fitted)\n",
    "\n",
    "# Basic line plot with points\n",
    "options(repr.plot.width=7, repr.plot.height=4.5)  # (1) Jupyter Notebook plot size, inches\n",
    "# ggplot(data=df, aes(x=time, y=-10*(var), colour=(-10*var), group=1)) + geom_line()+ geom_point() + \n",
    "ggplot(data=df, aes(x=time, y=-10*(var), colour=(-10*var), color=qsec, group=1)) + geom_line()+ geom_point() + \n",
    "  theme(plot.title = element_text(hjust = 0.5)) + \n",
    "  scale_color_gradient(low=\"#AA4444\", high=\"#ff0000\") + \n",
    "  scale_x_date(date_breaks='1 month', date_labels=\"%b '%y\") + \n",
    "  stat_smooth(method='lm', col='#2e64ba') + \n",
    "  labs(x='Time', y='Adverse Health Measure (AHM)', title='Adverse Health Measure (AHM), Daily', colour='AHM')\n",
    "options(repr.plot.width=7, repr.plot.height=7)  # (1) default"
   ]
  },
  {
   "cell_type": "code",
   "execution_count": null,
   "metadata": {},
   "outputs": [],
   "source": []
  },
  {
   "cell_type": "code",
   "execution_count": null,
   "metadata": {},
   "outputs": [],
   "source": []
  },
  {
   "cell_type": "code",
   "execution_count": null,
   "metadata": {},
   "outputs": [],
   "source": []
  },
  {
   "cell_type": "code",
   "execution_count": null,
   "metadata": {},
   "outputs": [],
   "source": [
    "a_lm <- lm(Indicator.Health ~ Date, data=df)\n",
    "plot(df$Date, df$Indicator.Health)\n",
    "lines(df$Date, a_lm$fitted)"
   ]
  },
  {
   "cell_type": "markdown",
   "metadata": {},
   "source": [
    "### V.2 Linear Models"
   ]
  },
  {
   "cell_type": "code",
   "execution_count": null,
   "metadata": {
    "scrolled": false
   },
   "outputs": [],
   "source": [
    "a_lm <- lm(Indicator.Utility ~ Date, data=df)\n",
    "plot(df$Date, df$Indicator.Utility)\n",
    "lines(df$Date, a_lm$fitted)"
   ]
  },
  {
   "cell_type": "code",
   "execution_count": null,
   "metadata": {},
   "outputs": [],
   "source": [
    "a_lm <- lm(Indicator.Health ~ Date, data=df)\n",
    "plot(df$Date, df$Indicator.Health)\n",
    "lines(df$Date, a_lm$fitted)"
   ]
  },
  {
   "cell_type": "code",
   "execution_count": null,
   "metadata": {},
   "outputs": [],
   "source": [
    "a_lm <- lm(Indicator.Wellbeing ~ Date, data=df)\n",
    "plot(df$Date, df$Indicator.Wellbeing)\n",
    "lines(df$Date, a_lm$fitted)"
   ]
  }
 ],
 "metadata": {
  "kernelspec": {
   "display_name": "R",
   "language": "R",
   "name": "ir"
  },
  "language_info": {
   "codemirror_mode": "r",
   "file_extension": ".r",
   "mimetype": "text/x-r-source",
   "name": "R",
   "pygments_lexer": "r",
   "version": "3.4.1"
  }
 },
 "nbformat": 4,
 "nbformat_minor": 2
}
