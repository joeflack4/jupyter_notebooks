{
 "cells": [
  {
   "cell_type": "markdown",
   "id": "ecological-press",
   "metadata": {},
   "source": [
    "# COVID vaccine patent-waiver decision making.ipynb\n",
    "\n",
    "## Background"
   ]
  },
  {
   "cell_type": "code",
   "execution_count": 1,
   "id": "endangered-supervision",
   "metadata": {},
   "outputs": [
    {
     "name": "stderr",
     "output_type": "stream",
     "text": [
      "/srv/conda/envs/notebook/lib/python3.7/site-packages/IPython/core/display.py:717: UserWarning: Consider using IPython.display.IFrame instead\n",
      "  warnings.warn(\"Consider using IPython.display.IFrame instead\")\n"
     ]
    },
    {
     "data": {
      "text/html": [
       "<iframe width=\"560\" height=\"315\" src=\"https://www.youtube.com/embed/g5NRZSGkgVU\" title=\"YouTube video player\" frameborder=\"0\" allow=\"accelerometer; autoplay; clipboard-write; encrypted-media; gyroscope; picture-in-picture\" allowfullscreen></iframe>"
      ],
      "text/plain": [
       "<IPython.core.display.HTML object>"
      ]
     },
     "execution_count": 1,
     "metadata": {},
     "output_type": "execute_result"
    }
   ],
   "source": [
    "from IPython.display import HTML\n",
    "HTML('<iframe width=\"560\" height=\"315\" src=\"https://www.youtube.com/embed/g5NRZSGkgVU\" title=\"YouTube video player\" frameborder=\"0\" allow=\"accelerometer; autoplay; clipboard-write; encrypted-media; gyroscope; picture-in-picture\" allowfullscreen></iframe>')"
   ]
  },
  {
   "cell_type": "markdown",
   "id": "synthetic-contrary",
   "metadata": {},
   "source": [
    "## Basic question\n",
    "Bill gates recently came out against waiving patent protections on COVID vaccine IP held by US companies. This discussion aims to evaluate whether or not that the policy reflected by that opinion is or is not the most effective &/or ethical; that is to say: in this instance, should we or should we not waive the conventional intellectual property / patent protections on COVID vaccine?\n",
    "\n",
    "## Rationale for analysis \n",
    "Needless to say, COVID-19 is still very much an active pandemic. Most rich countries seem to be doing fairly well at vaccinating their populations, but poorer countries are lagging behind. Eventually it is expected that most countries will reach a satisfactory level of vaccination, but precise time frames as to when that will happen for each country is not known (at least not be me atm). \n",
    "\n",
    "Rates of vaccination uptake is are likely to be determined by a complex array of driving factors. Among these factors is the accessability of knowledge and research related to vaccine manufacture. Without a very rigorous analysis, it's hard to say how strong of an influence this is, but my working assumption is: it is significant. Given the current media attention to this topic, it is fair to say that a large portion of the public is also concerned that this is significant enough warrant public discussion.\n",
    "\n",
    "In addition to the importance of doing analysis for the sake of sating public opinion, it also can't be denied that the impact on human life of this decision will be significant, and we should rigorously analyze this decision for ethical as well as economic reasons. Essentially all 7+ billion people on the planet will be effected by the decision either directly or indirectly, with several billion being directly / significantly effected, depending on their country's native capacity.\n",
    "\n",
    "# Methods\n",
    "## Utility function\n",
    "My personal gold standard for significant decision making is a consensus utility function. In epidemiology, some of the well established  utility proxies are the `DALYs Averted` (Disability Adjusted Life Years, averted), the `QALY` (Quality Adjusted Life Years), `$ / DALY Averted`, and `$ / QALY`.\n",
    "\n",
    "My personal preference for this discussion would be to optimize for `DALYs Averted` for (i) simplicity reasons, and (ii) economic factors are particularly hard to consider here due increased vaccination rates having a positive effect for national economies and economically linked economies, and having to take in those considerations appears to at least double the complexity of this discussion. However, I would place my prior probability in favor of the thesis that: waiving IP on COVID vaccines would have a net positive effect on the global economy.\n",
    "\n",
    "<!-- Indicators ... I want to also add what I think is *not* worth specifically optimizing for.(i) vaccination uptake rate. (ii) Mutation rates are another key indicator to consider. We also want to think about (iii) projected prevalence on a global and per country basis, as well as (iv) risks of reinfection from a country of lower vaccination rate to a countries of higher vaccination rate. -->\n",
    "\n",
    "## Very simplified mathematical model "
   ]
  },
  {
   "cell_type": "code",
   "execution_count": 2,
   "id": "quarterly-superintendent",
   "metadata": {},
   "outputs": [
    {
     "data": {
      "text/plain": [
       "1"
      ]
     },
     "execution_count": 2,
     "metadata": {},
     "output_type": "execute_result"
    }
   ],
   "source": [
    "def model():\n",
    "    return 1\n",
    "\n",
    "model()"
   ]
  },
  {
   "cell_type": "code",
   "execution_count": 3,
   "id": "informational-graduate",
   "metadata": {},
   "outputs": [
    {
     "data": {
      "text/plain": [
       "1"
      ]
     },
     "execution_count": 3,
     "metadata": {},
     "output_type": "execute_result"
    }
   ],
   "source": [
    "model()"
   ]
  },
  {
   "cell_type": "code",
   "execution_count": 4,
   "id": "municipal-observer",
   "metadata": {},
   "outputs": [
    {
     "data": {
      "text/plain": [
       "2"
      ]
     },
     "execution_count": 4,
     "metadata": {},
     "output_type": "execute_result"
    }
   ],
   "source": [
    "1 + 1"
   ]
  },
  {
   "cell_type": "code",
   "execution_count": null,
   "id": "fundamental-scenario",
   "metadata": {},
   "outputs": [],
   "source": []
  }
 ],
 "metadata": {
  "kernelspec": {
   "display_name": "Python 3",
   "language": "python",
   "name": "python3"
  },
  "language_info": {
   "codemirror_mode": {
    "name": "ipython",
    "version": 3
   },
   "file_extension": ".py",
   "mimetype": "text/x-python",
   "name": "python",
   "nbconvert_exporter": "python",
   "pygments_lexer": "ipython3",
   "version": "3.7.8"
  }
 },
 "nbformat": 4,
 "nbformat_minor": 5
}
