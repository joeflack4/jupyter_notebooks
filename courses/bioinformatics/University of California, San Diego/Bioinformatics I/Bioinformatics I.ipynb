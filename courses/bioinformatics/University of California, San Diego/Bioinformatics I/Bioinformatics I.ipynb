{
 "cells": [
  {
   "cell_type": "markdown",
   "metadata": {},
   "source": [
    "### Welcome to Bioinformatics Algorithms\n",
    "#### How to use this course\n",
    "The materials for this course are on *Stepik*, a web application for learning. The first lesson can be accessed [here](https://stepik.org/lesson/1/step/1/toc?course=undefined&unit=8230).\n",
    "\n",
    "Nucleotides\n",
    "- Adenine (A)\n",
    "- Cytosine (C)\n",
    "- Guanine (G)\n",
    "- Thymine (T)\n",
    "\n",
    "A pairs with T and C pairs with G.\n",
    "\n",
    "The `-ine` suffix of these nucleotides comes from the fact that they are *Nitrogen-containing* compounds (i.e. *amines*).\n",
    "\n",
    "DNA is a *quaternary* (base-4) system, although it appears it can be interpreted as binary. DNA is meant (I believe) to be read 3 lines / nucleotide-pairs at a time. This is the next layer of abstraction. Think of it as \"the assembly language\" of biology. Each of triple-pairs is called a *codon*, which are used to transcribe one of $20$ possible *amino acids* each. Since $x^y$ (`x=BasePair(BP), y=BP/Codon`) is $4^3$, or $64$, many amino acids are transcribable in more than one way.\n",
    "\n",
    "There are also three 'stop' or 'nonsense' codons signifying the end of the coding region; these are the TAA, TGA, and TAG codons."
   ]
  }
 ],
 "metadata": {
  "kernelspec": {
   "display_name": "Python 3",
   "language": "python",
   "name": "python3"
  },
  "language_info": {
   "codemirror_mode": {
    "name": "ipython",
    "version": 3
   },
   "file_extension": ".py",
   "mimetype": "text/x-python",
   "name": "python",
   "nbconvert_exporter": "python",
   "pygments_lexer": "ipython3",
   "version": "3.6.1"
  }
 },
 "nbformat": 4,
 "nbformat_minor": 2
}
